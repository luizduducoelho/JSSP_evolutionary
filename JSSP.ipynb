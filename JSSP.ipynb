{
 "cells": [
  {
   "cell_type": "markdown",
   "metadata": {},
   "source": [
    "## Imports"
   ]
  },
  {
   "cell_type": "code",
   "execution_count": 1,
   "metadata": {},
   "outputs": [],
   "source": [
    "import numpy "
   ]
  },
  {
   "cell_type": "markdown",
   "metadata": {},
   "source": [
    "## Reading data "
   ]
  },
  {
   "cell_type": "code",
   "execution_count": 16,
   "metadata": {},
   "outputs": [],
   "source": [
    "def read_data(filename):\n",
    "    with open(filename, 'r') as f:\n",
    "        data = f.readlines()\n",
    "        data = [line.strip() for line in data]           # Remove '\\n'\n",
    "        data = [line.split(',') for line in data]        # Split by ','\n",
    "        data = [list(map(int, line)) for line in data]   # Convert list of string to list of int\n",
    "    \n",
    "    return data\n",
    "\n",
    "filename = 'entrada_3.txt'\n",
    "data = read_data(filename)"
   ]
  },
  {
   "cell_type": "markdown",
   "metadata": {},
   "source": [
    "## Genetic Algorithm"
   ]
  },
  {
   "cell_type": "code",
   "execution_count": 51,
   "metadata": {},
   "outputs": [],
   "source": [
    "class GA():\n",
    "    def __init__(self, data):\n",
    "        self.data = data\n",
    "        \n",
    "    def fitness(self, solution):\n",
    "        data_ordered = [self.data[i] for i in solution]\n",
    "        \n",
    "        maquina1 = 0 \n",
    "        maquina2 = 0 \n",
    "        maquina3 = 0 \n",
    "        for data in data_ordered:\n",
    "            maquina1 += data[0]\n",
    "            maquina2 += data[1] + max(0, maquina1 - maquina2)\n",
    "            maquina3 += data[2] + max(0, maquina2 - maquina3)\n",
    "        return maquina3\n",
    "    \n",
    "    "
   ]
  },
  {
   "cell_type": "code",
   "execution_count": 53,
   "metadata": {},
   "outputs": [
    {
     "data": {
      "text/plain": [
       "64"
      ]
     },
     "execution_count": 53,
     "metadata": {},
     "output_type": "execute_result"
    }
   ],
   "source": [
    "data = [[24, 16, 8], [8, 8, 8], [8, 16, 24]]\n",
    "p1 = GA(data)\n",
    "p1.fitness([2, 1, 0])"
   ]
  }
 ],
 "metadata": {
  "kernelspec": {
   "display_name": "Python 3",
   "language": "python",
   "name": "python3"
  },
  "language_info": {
   "codemirror_mode": {
    "name": "ipython",
    "version": 3
   },
   "file_extension": ".py",
   "mimetype": "text/x-python",
   "name": "python",
   "nbconvert_exporter": "python",
   "pygments_lexer": "ipython3",
   "version": "3.6.7"
  }
 },
 "nbformat": 4,
 "nbformat_minor": 2
}
