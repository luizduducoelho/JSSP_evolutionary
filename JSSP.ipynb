{
 "cells": [
  {
   "cell_type": "markdown",
   "metadata": {},
   "source": [
    "## Imports"
   ]
  },
  {
   "cell_type": "code",
   "execution_count": 1,
   "metadata": {},
   "outputs": [],
   "source": [
    "import numpy as np\n",
    "import matplotlib.pyplot as plt"
   ]
  },
  {
   "cell_type": "markdown",
   "metadata": {},
   "source": [
    "## Reading data "
   ]
  },
  {
   "cell_type": "code",
   "execution_count": 2,
   "metadata": {},
   "outputs": [],
   "source": [
    "def read_data(filename):\n",
    "    with open(filename, 'r') as f:\n",
    "        data = f.readlines()\n",
    "        data = [line.strip() for line in data]           # Remove '\\n'\n",
    "        data = [line.split(',') for line in data]        # Split by ','\n",
    "        data = [list(map(int, line)) for line in data]   # Convert list of string to list of int\n",
    "    \n",
    "    return data\n",
    "\n",
    "filename = 'entrada_3.txt'\n",
    "data = read_data(filename)"
   ]
  },
  {
   "cell_type": "markdown",
   "metadata": {},
   "source": [
    "## Genetic Algorithm"
   ]
  },
  {
   "cell_type": "code",
   "execution_count": 3,
   "metadata": {},
   "outputs": [],
   "source": [
    "class GA():\n",
    "    def __init__(self, data):\n",
    "        self.data = data\n",
    "        self.size = len(data)\n",
    "        self.population = []\n",
    "        self.population_fitness = []\n",
    "        self.best_by_iteration = []\n",
    "        self.mean_by_iteration = []\n",
    "        \n",
    "    def fitness(self, solution):\n",
    "        if len(solution) != self.size:\n",
    "            raise ValueError(\"Solution size shoud be equal the number of the problem. Solution size: {}. Problem size: {}\"\n",
    "                            .format(len(solution), self.size))\n",
    "        \n",
    "        data_ordered = [self.data[i] for i in solution]\n",
    "        \n",
    "        maquina1 = 0 \n",
    "        maquina2 = 0 \n",
    "        maquina3 = 0 \n",
    "        for data in data_ordered:\n",
    "            maquina1 += data[0]\n",
    "            maquina2 += data[1] + max(0, maquina1 - maquina2)\n",
    "            maquina3 += data[2] + max(0, maquina2 - maquina3)\n",
    "        return maquina3\n",
    "    \n",
    "    def remove_values_from_list(self, the_list, val):\n",
    "        return [value for value in the_list if value != val]\n",
    "\n",
    "    def crossover(self, ind1, ind2):  # Order crossover\n",
    "        size = min(len(ind1), len(ind2))  #self.size\n",
    "        \n",
    "        # randomly select a substring in parent 1\n",
    "        start = np.random.randint(0, size)\n",
    "        end = np.random.randint(start, size)\n",
    "        child = [-1] * size\n",
    "        child2 = [-1] * size\n",
    "        # copy the substring to offspring\n",
    "        for i in range(start, end+1):\n",
    "            child[i] = ind1[i]\n",
    "            child2[i] = ind2[i]\n",
    "        temp1, temp2 = ind1.copy(), ind2.copy()\n",
    "        for i in range(0, size):\n",
    "            # find and delete substring elements in parent 2\n",
    "            if (temp2[i] in child):\n",
    "                temp2[i] = -1\n",
    "            if (temp1[i] in child2):\n",
    "                temp1[i] = -1\n",
    "\n",
    "        popped2 = self.remove_values_from_list(temp2, -1)\n",
    "        popped1 = self.remove_values_from_list(temp1, -1)\n",
    "        k = 0\n",
    "        u = 0\n",
    "        for i in range(0, size):\n",
    "            if (child[i] == -1):\n",
    "                child[i] = popped2[k]\n",
    "                k = k + 1\n",
    "            if (child2[i] == -1):\n",
    "                child2[i] = popped1[u]\n",
    "                u = u + 1\n",
    "        #print(\"Popped: \", popped1, popped2)\n",
    "        #print(\"Child: \",child, child2)\n",
    "        #print(\"Type: \", type(child))\n",
    "        return np.array(child), np.array(child2)\n",
    "\n",
    "    def swap(self, solution):  # swap mutation\n",
    "        # picks 2 random indexes in solution\n",
    "        indexes = list(range(0, self.size))\n",
    "        np.random.shuffle(indexes)\n",
    "        swapIndex1, swapIndex2 = indexes[0], indexes[1]\n",
    "        # swap the chosen elements\n",
    "        temp = solution[swapIndex1]\n",
    "        solution[swapIndex1] = solution[swapIndex2]\n",
    "        solution[swapIndex2] = temp\n",
    "        \n",
    "    \n",
    "    def tournament(self, k=5):\n",
    "        if k > len(self.population):\n",
    "            raise ValueError('K value for tournament should be smaller than population size. K: {}, Population size: {}'\n",
    "                            .format(k, len(self.population)))\n",
    "        \n",
    "        chosen_indexes = set()\n",
    "        while len(chosen_indexes) < k:\n",
    "            #print(\"k: \", k, \"  chosen_indexes: \", chosen_indexes)\n",
    "            chosen_indexes.add(np.random.randint(len(self.population)))\n",
    "        #print(\"set: \", chosen_indexes)\n",
    "        chosen_indexes = list(chosen_indexes)\n",
    "            \n",
    "        best = chosen_indexes[0]\n",
    "        for i in chosen_indexes:\n",
    "            if self.population_fitness[i] < self.population_fitness[best]:\n",
    "                best = i\n",
    "        \n",
    "        #print(\"Population fitness \", self.population_fitness)\n",
    "        #print(\"Best: \", best)\n",
    "        return best\n",
    "     \n",
    "    def run(self, population_size=20, crossover_probability=0.8, mutation_probability=0.6, k=5, number_of_iterations=1):\n",
    "        \n",
    "        ## Inicialize population\n",
    "        permutations = list(range(self.size))\n",
    "        for _ in range(population_size):\n",
    "            self.population.append(np.random.permutation(permutations))\n",
    "            self.population_fitness.append(self.fitness(self.population[-1]))\n",
    "    \n",
    "        ## Main loop \n",
    "        for iteration in range(number_of_iterations):\n",
    "            parent1_ind = self.tournament(k)\n",
    "            parent2_ind = self.tournament(k)\n",
    "            parent1 = self.population[parent1_ind]\n",
    "            parent2 = self.population[parent2_ind]\n",
    "            # Crossover\n",
    "            if np.random.rand() < crossover_probability:\n",
    "                child1, child2 = self.crossover(parent1, parent2)\n",
    "            else:\n",
    "                child1 = parent1\n",
    "                child2 = parent2\n",
    "            # Mutation\n",
    "            if np.random.rand() < mutation_probability:\n",
    "                self.swap(child1)  # Mutation is inline , returns None\n",
    "                self.swap(child2)\n",
    "            # Evaluate\n",
    "            child1_fitness = self.fitness(child1)\n",
    "            child2_fitness = self.fitness(child2)\n",
    "            # Select individuals based on elitism \n",
    "            if child1_fitness < self.population_fitness[parent1_ind]:\n",
    "                self.population[parent1_ind] = child1\n",
    "                self.population_fitness[parent1_ind] = child1_fitness\n",
    "            if child2_fitness < self.population_fitness[parent2_ind]:\n",
    "                self.population[parent2_ind] = child2\n",
    "                self.population_fitness[parent2_ind] = child2_fitness\n",
    "            \n",
    "            ## Save metrics\n",
    "            self.best_by_iteration.append(min(self.population_fitness))\n",
    "            self.mean_by_iteration.append(np.mean(self.population_fitness))\n",
    "            \n",
    "            ## Steadily increase trounament k to improve exploitation as the method evolves\n",
    "            ## TO DO\n",
    "            \n",
    "        print(\"Final best is \", min(self.population_fitness))\n",
    "        \n",
    "        "
   ]
  },
  {
   "cell_type": "code",
   "execution_count": 81,
   "metadata": {},
   "outputs": [
    {
     "name": "stdout",
     "output_type": "stream",
     "text": [
      "Popped:  [0, 1] [1, 0]\n",
      "Child:  [-1, -1, 2] [-1, -1, 2]\n",
      "Popped:  [0, 1] [1, 0]\n",
      "Child:  [1, 0, 2] [0, 1, 2]\n",
      "Type:  <class 'list'>\n",
      "Final best is  74\n"
     ]
    }
   ],
   "source": [
    "p1 = GA(data)\n",
    "population_size=3\n",
    "crossover_probability=0.8\n",
    "mutation_probability=0.6\n",
    "k=2\n",
    "number_of_iterations=1\n",
    "p1.run(population_size, crossover_probability, mutation_probability, k, number_of_iterations)"
   ]
  },
  {
   "cell_type": "code",
   "execution_count": 82,
   "metadata": {},
   "outputs": [
    {
     "data": {
      "text/plain": [
       "[array([2, 1, 0]), array([0, 1, 2]), array([0, 1, 2])]"
      ]
     },
     "execution_count": 82,
     "metadata": {},
     "output_type": "execute_result"
    }
   ],
   "source": [
    "p1.population"
   ]
  },
  {
   "cell_type": "code",
   "execution_count": 6,
   "metadata": {},
   "outputs": [
    {
     "data": {
      "text/plain": [
       "74"
      ]
     },
     "execution_count": 6,
     "metadata": {},
     "output_type": "execute_result"
    }
   ],
   "source": [
    "p1.fitness([0,1,2])"
   ]
  },
  {
   "cell_type": "code",
   "execution_count": 7,
   "metadata": {},
   "outputs": [
    {
     "data": {
      "text/plain": [
       "82"
      ]
     },
     "execution_count": 7,
     "metadata": {},
     "output_type": "execute_result"
    }
   ],
   "source": [
    "p1.fitness([0,2,1])"
   ]
  },
  {
   "cell_type": "code",
   "execution_count": 8,
   "metadata": {},
   "outputs": [
    {
     "data": {
      "text/plain": [
       "78"
      ]
     },
     "execution_count": 8,
     "metadata": {},
     "output_type": "execute_result"
    }
   ],
   "source": [
    "p1.fitness([1,0,2])"
   ]
  },
  {
   "cell_type": "code",
   "execution_count": 9,
   "metadata": {},
   "outputs": [
    {
     "data": {
      "text/plain": [
       "85"
      ]
     },
     "execution_count": 9,
     "metadata": {},
     "output_type": "execute_result"
    }
   ],
   "source": [
    "p1.fitness([1,2,0])"
   ]
  },
  {
   "cell_type": "code",
   "execution_count": 10,
   "metadata": {},
   "outputs": [
    {
     "data": {
      "text/plain": [
       "82"
      ]
     },
     "execution_count": 10,
     "metadata": {},
     "output_type": "execute_result"
    }
   ],
   "source": [
    "p1.fitness([2,0,1])"
   ]
  },
  {
   "cell_type": "code",
   "execution_count": 11,
   "metadata": {},
   "outputs": [
    {
     "data": {
      "text/plain": [
       "81"
      ]
     },
     "execution_count": 11,
     "metadata": {},
     "output_type": "execute_result"
    }
   ],
   "source": [
    "p1.fitness([2,1,0])"
   ]
  }
 ],
 "metadata": {
  "kernelspec": {
   "display_name": "Python 3",
   "language": "python",
   "name": "python3"
  },
  "language_info": {
   "codemirror_mode": {
    "name": "ipython",
    "version": 3
   },
   "file_extension": ".py",
   "mimetype": "text/x-python",
   "name": "python",
   "nbconvert_exporter": "python",
   "pygments_lexer": "ipython3",
   "version": "3.6.7"
  }
 },
 "nbformat": 4,
 "nbformat_minor": 2
}
