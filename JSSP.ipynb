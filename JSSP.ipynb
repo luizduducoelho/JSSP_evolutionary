{
 "cells": [
  {
   "cell_type": "markdown",
   "metadata": {},
   "source": [
    "## Imports"
   ]
  },
  {
   "cell_type": "code",
   "execution_count": 1,
   "metadata": {},
   "outputs": [],
   "source": [
    "import numpy as np"
   ]
  },
  {
   "cell_type": "markdown",
   "metadata": {},
   "source": [
    "## Reading data "
   ]
  },
  {
   "cell_type": "code",
   "execution_count": 2,
   "metadata": {},
   "outputs": [],
   "source": [
    "def read_data(filename):\n",
    "    with open(filename, 'r') as f:\n",
    "        data = f.readlines()\n",
    "        data = [line.strip() for line in data]           # Remove '\\n'\n",
    "        data = [line.split(',') for line in data]        # Split by ','\n",
    "        data = [list(map(int, line)) for line in data]   # Convert list of string to list of int\n",
    "    \n",
    "    return data\n",
    "\n",
    "filename = 'entrada_3.txt'\n",
    "data = read_data(filename)"
   ]
  },
  {
   "cell_type": "markdown",
   "metadata": {},
   "source": [
    "## Genetic Algorithm"
   ]
  },
  {
   "cell_type": "code",
   "execution_count": 3,
   "metadata": {},
   "outputs": [],
   "source": [
    "class GA():\n",
    "    def __init__(self, data):\n",
    "        self.data = data\n",
    "        self.size = len(data)\n",
    "        self.population = []\n",
    "        self.population_fitness = []\n",
    "        \n",
    "    def fitness(self, solution):\n",
    "        if len(solution) != self.size:\n",
    "            raise ValueError(\"Solution size shoud be equal the number of the problem. Solution size: {}. Problem size: {}\"\n",
    "                            .format(len(solution), self.size))\n",
    "        \n",
    "        data_ordered = [self.data[i] for i in solution]\n",
    "        \n",
    "        maquina1 = 0 \n",
    "        maquina2 = 0 \n",
    "        maquina3 = 0 \n",
    "        for data in data_ordered:\n",
    "            maquina1 += data[0]\n",
    "            maquina2 += data[1] + max(0, maquina1 - maquina2)\n",
    "            maquina3 += data[2] + max(0, maquina2 - maquina3)\n",
    "        return maquina3\n",
    "    \n",
    "    def remove_values_from_list(self, the_list, val):\n",
    "        return [value for value in the_list if value != val]\n",
    "\n",
    "    def crossover(self, ind1, ind2):  # Order crossover\n",
    "        size = min(len(ind1), len(ind2))\n",
    "\n",
    "        # randomly select a substring in parent 1\n",
    "        start = np.random.randint(0, size)\n",
    "        end = np.random.randint(start, size)\n",
    "        child = [0] * size\n",
    "        child2 = [0] * size\n",
    "        # copy the substring to offspring\n",
    "        for i in range(start, end):\n",
    "            child[i] = ind1[i]\n",
    "            child2[i] = ind2[i]\n",
    "        temp1, temp2 = ind1, ind2\n",
    "        for i in range(0, size):\n",
    "            # find and delete substring elements in parent 2\n",
    "            if (temp2[i] in child):\n",
    "                temp2[i] = 0\n",
    "            if (temp1[i] in child2):\n",
    "                temp1[i] = 0\n",
    "\n",
    "        popped2 = remove_values_from_list(temp2, 0)\n",
    "        popped1 = remove_values_from_list(temp1, 0)\n",
    "        k = 0\n",
    "        u = 0\n",
    "        for i in range(0, size):\n",
    "            if (child[i] == 0):\n",
    "                child[i] = popped2[k]\n",
    "                k = k + 1\n",
    "            if (child2[i] == 0):\n",
    "                child2[i] = popped1[u]\n",
    "                u = u + 1\n",
    "        return child, child2\n",
    "\n",
    "    def swap(self, solution):  # swap mutation\n",
    "        # picks 2 random indexes in solution\n",
    "        indexes = list(range(0, self.size))\n",
    "        np.random.shuffle(indexes)\n",
    "        swapIndex1, swapIndex2 = indexes[0], indexes[1]\n",
    "        # swap the chosen elements\n",
    "        temp = solution[swapIndex1]\n",
    "        solution[swapIndex1] = solution[swapIndex2]\n",
    "        solution[swapIndex2] = temp\n",
    "    \n",
    "    def tournament(self, k=10):\n",
    "        if k > len(self.population):\n",
    "            raise ValueError('K value for tournament should be smaller than population size. K: {}, Population size: {}'\n",
    "                            .format(k, len(self.population)))\n",
    "        \n",
    "        chosen_indexes = set()\n",
    "        while len(chosen_indexes) < k:\n",
    "            print(\"k: \", k, \"  chosen_indexes: \", chosen_indexes)\n",
    "            chosen_indexes.add(np.random.randint(len(self.population)))\n",
    "        print(\"set: \", chosen_indexes)\n",
    "        chosen_indexes = list(chosen_indexes)\n",
    "            \n",
    "        best = chosen_indexes[0]\n",
    "        for i in chosen_indexes:\n",
    "            if self.population_fitness[i] < self.population_fitness[best]:\n",
    "                best = i\n",
    "        \n",
    "        print(\"Population fitness \", self.population_fitness)\n",
    "        print(\"Best: \", best)\n",
    "        return best\n",
    "     \n",
    "    def run(self, population_size=20, crossover_probability=0.8, mutation_probability=0.6):\n",
    "        \n",
    "        ## Inicialize population\n",
    "        permutations = list(range(self.size))\n",
    "        for _ in range(population_size):\n",
    "            self.population.append(np.random.permutation(permutations))\n",
    "            self.population_fitness.append(self.fitness(self.population[-1]))\n",
    "        print(self.population)\n",
    "        print(self.population_fitness)\n",
    "        \n",
    "        \n",
    "        \n",
    "        "
   ]
  },
  {
   "cell_type": "code",
   "execution_count": 4,
   "metadata": {},
   "outputs": [
    {
     "data": {
      "text/plain": [
       "81"
      ]
     },
     "execution_count": 4,
     "metadata": {},
     "output_type": "execute_result"
    }
   ],
   "source": [
    "p1 = GA(data)\n",
    "p1.fitness([2, 1, 0])"
   ]
  },
  {
   "cell_type": "code",
   "execution_count": 5,
   "metadata": {},
   "outputs": [
    {
     "name": "stdout",
     "output_type": "stream",
     "text": [
      "[array([1, 0, 2]), array([2, 1, 0]), array([0, 2, 1]), array([2, 1, 0]), array([0, 1, 2]), array([1, 0, 2]), array([1, 2, 0]), array([0, 2, 1]), array([0, 2, 1]), array([2, 0, 1]), array([2, 1, 0]), array([1, 0, 2]), array([0, 1, 2]), array([0, 2, 1]), array([2, 1, 0]), array([2, 0, 1]), array([0, 2, 1]), array([2, 1, 0]), array([0, 2, 1]), array([0, 1, 2])]\n",
      "[78, 81, 82, 81, 74, 78, 85, 82, 82, 82, 81, 78, 74, 82, 81, 82, 82, 81, 82, 74]\n"
     ]
    }
   ],
   "source": [
    "p1.run()"
   ]
  },
  {
   "cell_type": "code",
   "execution_count": 6,
   "metadata": {},
   "outputs": [
    {
     "data": {
      "text/plain": [
       "0"
      ]
     },
     "execution_count": 6,
     "metadata": {},
     "output_type": "execute_result"
    }
   ],
   "source": [
    "np.random.randint(3)"
   ]
  },
  {
   "cell_type": "code",
   "execution_count": 7,
   "metadata": {},
   "outputs": [
    {
     "name": "stdout",
     "output_type": "stream",
     "text": [
      "k:  10   chosen_indexes:  set()\n",
      "k:  10   chosen_indexes:  {2}\n",
      "k:  10   chosen_indexes:  {8, 2}\n",
      "k:  10   chosen_indexes:  {8, 2}\n",
      "k:  10   chosen_indexes:  {8, 2, 7}\n",
      "k:  10   chosen_indexes:  {8, 2, 14, 7}\n",
      "k:  10   chosen_indexes:  {2, 5, 7, 8, 14}\n",
      "k:  10   chosen_indexes:  {2, 5, 7, 8, 14}\n",
      "k:  10   chosen_indexes:  {2, 5, 7, 8, 10, 14}\n",
      "k:  10   chosen_indexes:  {2, 5, 6, 7, 8, 10, 14}\n",
      "k:  10   chosen_indexes:  {2, 5, 6, 7, 8, 10, 12, 14}\n",
      "k:  10   chosen_indexes:  {2, 5, 6, 7, 8, 10, 12, 14}\n",
      "k:  10   chosen_indexes:  {2, 5, 6, 7, 8, 10, 12, 14}\n",
      "k:  10   chosen_indexes:  {2, 5, 6, 7, 8, 10, 12, 14, 16}\n",
      "k:  10   chosen_indexes:  {2, 5, 6, 7, 8, 10, 12, 14, 16}\n",
      "set:  {0, 2, 5, 6, 7, 8, 10, 12, 14, 16}\n",
      "Population fitness  [78, 81, 82, 81, 74, 78, 85, 82, 82, 82, 81, 78, 74, 82, 81, 82, 82, 81, 82, 74]\n",
      "Best:  12\n"
     ]
    },
    {
     "data": {
      "text/plain": [
       "12"
      ]
     },
     "execution_count": 7,
     "metadata": {},
     "output_type": "execute_result"
    }
   ],
   "source": [
    "p1.tournament(10)"
   ]
  }
 ],
 "metadata": {
  "kernelspec": {
   "display_name": "Python 3",
   "language": "python",
   "name": "python3"
  },
  "language_info": {
   "codemirror_mode": {
    "name": "ipython",
    "version": 3
   },
   "file_extension": ".py",
   "mimetype": "text/x-python",
   "name": "python",
   "nbconvert_exporter": "python",
   "pygments_lexer": "ipython3",
   "version": "3.6.7"
  }
 },
 "nbformat": 4,
 "nbformat_minor": 2
}
